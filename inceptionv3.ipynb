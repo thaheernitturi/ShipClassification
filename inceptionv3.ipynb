{
 "cells": [
  {
   "cell_type": "code",
   "execution_count": 2,
   "id": "3a6b529a-b2f8-4d74-a476-8d66df3f45ae",
   "metadata": {},
   "outputs": [
    {
     "name": "stdout",
     "output_type": "stream",
     "text": [
      "WARNING:tensorflow:From C:\\Users\\venkat\\AppData\\Local\\Programs\\Python\\Python39\\lib\\site-packages\\keras\\src\\losses.py:2976: The name tf.losses.sparse_softmax_cross_entropy is deprecated. Please use tf.compat.v1.losses.sparse_softmax_cross_entropy instead.\n",
      "\n"
     ]
    }
   ],
   "source": [
    "import os\n",
    "os.environ['TF_CPP_MIN_LOG_LEVEL'] = '3'\n",
    "import tensorflow as tf\n",
    "import numpy as np\n",
    "import cv2\n",
    "from tensorflow import keras\n",
    "import random\n",
    "from tensorflow.keras.applications.inception_v3 import InceptionV3\n",
    "from tensorflow.keras.models import Model,load_model\n",
    "from tensorflow.keras.layers import Dense, GlobalAveragePooling2D\n",
    "from tensorflow.keras.optimizers import RMSprop\n",
    "from tensorflow.keras import callbacks\n",
    "from sklearn.model_selection import train_test_split\n",
    "import math\n",
    "from sklearn.metrics import classification_report,roc_auc_score,matthews_corrcoef\n",
    "import argparse\n",
    "import time\n",
    "import sys"
   ]
  },
  {
   "cell_type": "code",
   "execution_count": 3,
   "id": "5dc14dcb-2d50-40c6-ad09-ed9dda20777a",
   "metadata": {},
   "outputs": [],
   "source": [
    "image_data_dir = \"C:\\\\Users\\\\venkat\\\\OneDrive\\\\Documents\\\\uni\\\\Mini Project\\\\check\\\\Store Images\"\n",
    "gen_data_dir= \"C:\\\\Users\\\\venkat\\\\OneDrive\\\\Documents\\\\uni\\\\Mini Project\\\\check\\\\Gen data\""
   ]
  },
  {
   "cell_type": "code",
   "execution_count": 4,
   "id": "bd71824f-6b0b-4243-b864-23030c4e676e",
   "metadata": {},
   "outputs": [],
   "source": [
    "def save_images_to_disk(image_data, save_path):\n",
    "    os.makedirs(save_path, exist_ok=True) \n",
    "    for i, image in enumerate(image_data):\n",
    "        np.save(os.path.join(save_path, f'image_{i}.npy'), image)\n",
    "\n",
    "def load_images_from_disk(load_path):\n",
    "    image_data = []\n",
    "    for filename in os.listdir(load_path):\n",
    "        if filename.endswith('.npy'):\n",
    "            image = np.load(os.path.join(load_path, filename))\n",
    "            image_data.append(image)\n",
    "    return image_data"
   ]
  },
  {
   "cell_type": "code",
   "execution_count": 5,
   "id": "265a3f3f-4f06-422e-9fab-490f38ef9783",
   "metadata": {},
   "outputs": [],
   "source": [
    "class config1:\n",
    "    '''\n",
    "    define parameters & paths\n",
    "    '''\n",
    "    save_tanker_target_train_path = \"C:\\\\Users\\\\venkat\\\\OneDrive\\\\Documents\\\\uni\\\\Mini Project\\\\DVTR\\\\DVTR\\\\UAV-view\\\\train\\\\TA\"\n",
    "    save_tanker_target_test_path = \"C:\\\\Users\\\\venkat\\\\OneDrive\\\\Documents\\\\uni\\\\Mini Project\\\\DVTR\\\\DVTR\\\\UAV-view\\\\test\\\\TA\"\n",
    "    save_container_target_train_path = \"C:\\\\Users\\\\venkat\\\\OneDrive\\\\Documents\\\\uni\\\\Mini Project\\\\DVTR\\\\DVTR\\\\UAV-view\\\\train\\\\CS\"\n",
    "    save_container_target_test_path = \"C:\\\\Users\\\\venkat\\\\OneDrive\\\\Documents\\\\uni\\\\Mini Project\\\\DVTR\\\\DVTR\\\\UAV-view\\\\test\\\\CS\"\n",
    "    save_bulkcarrier_target_train_path = \"C:\\\\Users\\\\venkat\\\\OneDrive\\\\Documents\\\\uni\\\\Mini Project\\\\DVTR\\\\DVTR\\\\UAV-view\\\\train\\\\BC\"\n",
    "    save_bulkcarrier_target_test_path = \"C:\\\\Users\\\\venkat\\\\OneDrive\\\\Documents\\\\uni\\\\Mini Project\\\\DVTR\\\\DVTR\\\\UAV-view\\\\test\\\\BC\"\n",
    "    save_generalcargo_target_train_path = \"C:\\\\Users\\\\venkat\\\\OneDrive\\\\Documents\\\\uni\\\\Mini Project\\\\DVTR\\\\DVTR\\\\UAV-view\\\\train\\\\GC\"\n",
    "    save_generalcargo_target_test_path = \"C:\\\\Users\\\\venkat\\\\OneDrive\\\\Documents\\\\uni\\\\Mini Project\\\\DVTR\\\\DVTR\\\\UAV-view\\\\test\\\\GC\""
   ]
  },
  {
   "cell_type": "code",
   "execution_count": 6,
   "id": "9137ed13-d49c-4132-aad1-d19bc81c6cc5",
   "metadata": {},
   "outputs": [],
   "source": [
    "seed = 409\n",
    "np.random.seed(seed)\n",
    "random.seed(seed)\n",
    "os.environ['PYTHONHASHSEED']=str(seed)\n",
    "tf.random.set_seed(seed)"
   ]
  },
  {
   "cell_type": "code",
   "execution_count": 7,
   "id": "c784e9e3-c59b-4e81-8574-0bec095255ff",
   "metadata": {},
   "outputs": [],
   "source": [
    "class Dataset:\n",
    "    def channel4to3(self,img):\n",
    "        if len(img.shape) > 2 and img.shape[2] == 4:\n",
    "            img = cv2.cvtColor(img, cv2.COLOR_BGRA2BGR)\n",
    "        return img\n",
    "\n",
    "\n",
    "    def rt_data_label(self,dir,label,path,reduce=True):\n",
    "        all_digits = []\n",
    "        all_labels = []\n",
    "        for item in dir:\n",
    "            img = cv2.imread(os.path.join(path, item), cv2.IMREAD_UNCHANGED)\n",
    "            if reduce:\n",
    "                img = self.channel4to3(img)\n",
    "            all_digits.append(img)\n",
    "            all_labels.append(label)\n",
    "        all_digits = np.array(all_digits)\n",
    "        all_labels = np.array(all_labels)\n",
    "        return all_digits,all_labels\n",
    "\n",
    "    def uav_view_dataset(self):\n",
    "        '''\n",
    "        get UAV-view image data ready\n",
    "        :return: data & labels\n",
    "        '''\n",
    "        # tanker class\n",
    "        tanker_dir = os.listdir(config1.save_tanker_target_train_path)\n",
    "        tanker_dir_rest = os.listdir(config1.save_tanker_target_test_path)\n",
    "        all_digits_tanker,all_labels_tanker=self.rt_data_label(tanker_dir,0,config1.save_tanker_target_train_path)\n",
    "        all_digits_tanker_rest, all_labels_tanker_rest = self.rt_data_label(tanker_dir_rest, 0, config1.save_tanker_target_test_path,reduce=False)\n",
    "\n",
    "        # container class\n",
    "        container_dir = os.listdir(config1.save_container_target_train_path)\n",
    "        container_dir_rest = os.listdir(config1.save_container_target_test_path)\n",
    "        all_digits_container, all_labels_container = self.rt_data_label(container_dir, 1, config1.save_container_target_train_path,reduce=True)\n",
    "        all_digits_container_rest, all_labels_container_rest = self.rt_data_label(container_dir_rest, 1,\n",
    "                                                                            config1.save_container_target_test_path,reduce=True)\n",
    "\n",
    "        # bulkcarrier class\n",
    "        bulkcarrier_dir = os.listdir(config1.save_bulkcarrier_target_train_path)\n",
    "        bulkcarrier_dir_rest = os.listdir(config1.save_bulkcarrier_target_test_path)\n",
    "        all_digits_bulkcarrier, all_labels_bulkcarrier = self.rt_data_label(bulkcarrier_dir, 2,\n",
    "                                                                        config1.save_bulkcarrier_target_train_path,reduce=False)\n",
    "        all_digits_bulkcarrier_rest, all_labels_bulkcarrier_rest = self.rt_data_label(bulkcarrier_dir_rest, 2,\n",
    "                                                                                  config1.save_bulkcarrier_target_test_path,reduce=False)\n",
    "\n",
    "        # general cargo class\n",
    "        generalcargo_dir = os.listdir(config1.save_generalcargo_target_train_path)\n",
    "        generalcargo_dir_rest = os.listdir(config1.save_generalcargo_target_test_path)\n",
    "        all_digits_generalcargo, all_labels_generalcargo = self.rt_data_label(generalcargo_dir, 3,\n",
    "                                                                            config1.save_generalcargo_target_train_path,reduce=True)\n",
    "        all_digits_generalcargo_rest, all_labels_generalcargo_rest = self.rt_data_label(generalcargo_dir_rest, 3,\n",
    "                                                                                      config1.save_generalcargo_target_test_path,reduce=True)\n",
    "\n",
    "        all_digits = np.concatenate(\n",
    "            [all_digits_tanker, all_digits_container, all_digits_bulkcarrier, all_digits_generalcargo], axis=0)\n",
    "        all_digits = (all_digits.astype(\"float32\") / 255.0) * 2 - 1\n",
    "\n",
    "        all_digits_rest = np.concatenate(\n",
    "            [all_digits_tanker_rest, all_digits_container_rest, all_digits_bulkcarrier_rest, all_digits_generalcargo_rest], axis=0)\n",
    "        all_digits_rest = (all_digits_rest.astype(\"float32\") / 255.0) * 2 - 1\n",
    "\n",
    "        all_labels = np.concatenate(\n",
    "            [all_labels_tanker, all_labels_container, all_labels_bulkcarrier, all_labels_generalcargo], axis=0)\n",
    "        all_labels = keras.utils.to_categorical(all_labels, 4)\n",
    "\n",
    "        all_labels_rest = np.concatenate(\n",
    "            [all_labels_tanker_rest, all_labels_container_rest, all_labels_bulkcarrier_rest, all_labels_generalcargo_rest], axis=0)\n",
    "        all_labels_rest = keras.utils.to_categorical(all_labels_rest, 4)\n",
    "        \n",
    "        save_images_to_disk(all_digits, os.path.join(image_data_dir, \"train_images\"))\n",
    "        save_images_to_disk(all_digits_rest, os.path.join(image_data_dir, \"test_images\"))\n",
    "\n",
    "        return all_labels,all_labels_rest"
   ]
  },
  {
   "cell_type": "code",
   "execution_count": 8,
   "id": "67ea56b9-f8c6-465a-b504-a3a3ba4d25f4",
   "metadata": {},
   "outputs": [
    {
     "data": {
      "text/plain": [
       "(200, 4)"
      ]
     },
     "execution_count": 8,
     "metadata": {},
     "output_type": "execute_result"
    }
   ],
   "source": [
    "dataset = Dataset()\n",
    "\n",
    "# Then call the uav_view_dataset method on that instance\n",
    "all_labels, all_labels_rest = dataset.uav_view_dataset()\n",
    "all_labels.shape"
   ]
  },
  {
   "cell_type": "code",
   "execution_count": 9,
   "id": "651f5926-244e-43dd-a3d1-5d0b2acd5d44",
   "metadata": {},
   "outputs": [
    {
     "data": {
      "text/plain": [
       "(681, 4)"
      ]
     },
     "execution_count": 9,
     "metadata": {},
     "output_type": "execute_result"
    }
   ],
   "source": [
    "all_labels_rest.shape"
   ]
  },
  {
   "cell_type": "code",
   "execution_count": 10,
   "id": "df80a606-d0ba-454b-8afd-cd65bb7e18b8",
   "metadata": {},
   "outputs": [],
   "source": [
    "train_images=load_images_from_disk(os.path.join(image_data_dir, \"train_images\"))"
   ]
  },
  {
   "cell_type": "code",
   "execution_count": 11,
   "id": "d98f78df-1785-4d3f-9ce5-5263614d1b3e",
   "metadata": {},
   "outputs": [
    {
     "data": {
      "text/plain": [
       "(200, 256, 256, 3)"
      ]
     },
     "execution_count": 11,
     "metadata": {},
     "output_type": "execute_result"
    }
   ],
   "source": [
    "x_train=np.array(train_images)\n",
    "x_train.shape"
   ]
  },
  {
   "cell_type": "code",
   "execution_count": 12,
   "id": "62223996-335f-40b2-aa1f-7cacf46dc19f",
   "metadata": {},
   "outputs": [],
   "source": [
    "class config2:\n",
    "    size_per_class = 50*20\n",
    "    noise_dim = 128\n",
    "    uav_view_generator = \"C:\\\\Users\\\\venkat\\\\OneDrive\\\\Documents\\\\uni\\\\Mini Project\\\\save_gen\\\\save_gen\\\\UAV-view\\\\generator.h5\""
   ]
  },
  {
   "cell_type": "code",
   "execution_count": 13,
   "id": "665c0655-30b9-4c97-983e-ace7794b9456",
   "metadata": {},
   "outputs": [],
   "source": [
    "def build_model():\n",
    "    '''\n",
    "    build the generator architecture\n",
    "    :return: model of generator\n",
    "    '''\n",
    "    model = tf.keras.models.Sequential()\n",
    "    model.add(tf.keras.layers.InputLayer(input_shape=(132,)))\n",
    "    model.add(tf.keras.layers.Dense(8 * 8 * 256))\n",
    "    model.add(tf.keras.layers.Reshape((8, 8, 256)))\n",
    "    model.add(tf.keras.layers.Conv2DTranspose(256, 5, 2, activation=tf.nn.relu, padding='same'))\n",
    "    model.add(tf.keras.layers.Conv2DTranspose(128, 5, 2, activation=tf.nn.relu, padding='same'))\n",
    "    model.add(tf.keras.layers.Conv2DTranspose(64, 5, 2, activation=tf.nn.relu, padding='same'))\n",
    "    model.add(tf.keras.layers.Conv2DTranspose(32, 5, 2, activation=tf.nn.relu, padding='same'))\n",
    "    model.add(tf.keras.layers.Conv2DTranspose(16, 5, 2, activation=tf.nn.relu, padding='same'))\n",
    "    model.add(tf.keras.layers.Conv2DTranspose(3, 3, 1, activation=tf.nn.tanh, padding='same'))\n",
    "\n",
    "    # you can either compile or not the model\n",
    "    model.compile()\n",
    "    return model"
   ]
  },
  {
   "cell_type": "code",
   "execution_count": 14,
   "id": "789f7e29-86ba-414f-993b-d51510849494",
   "metadata": {},
   "outputs": [],
   "source": [
    "class generate_data:\n",
    "    def gen_labels(self,shiptype,size):\n",
    "        '''\n",
    "        functio to generate labels for given type of vessels\n",
    "        :param shiptype: ship type\n",
    "        :param size: sample size\n",
    "        :return: array of label\n",
    "        '''\n",
    "        if shiptype=='tanker':\n",
    "            a = np.array([1, -1, -1, -1])\n",
    "            b = np.tile(a, size)\n",
    "            b = np.reshape(b, newshape=(size, 4))\n",
    "            return b\n",
    "        elif shiptype=='container':\n",
    "            a = np.array([-1, 1, -1, -1])\n",
    "            b = np.tile(a, size)\n",
    "            b = np.reshape(b, newshape=(size, 4))\n",
    "            return b\n",
    "        elif shiptype=='bulkcarrier':\n",
    "            a = np.array([-1, -1, 1, -1])\n",
    "            b = np.tile(a, size)\n",
    "            b = np.reshape(b, newshape=(size, 4))\n",
    "            return b\n",
    "        elif shiptype=='general cargo':\n",
    "            a = np.array([-1, -1, -1, 1])\n",
    "            b = np.tile(a, size)\n",
    "            b = np.reshape(b, newshape=(size, 4))\n",
    "            return b\n",
    "\n",
    "    def uav_view_sample(self):\n",
    "        '''\n",
    "        function to generate UAV-view images via trained GAN model\n",
    "        :return: data and label\n",
    "        '''\n",
    "        generator = build_model()\n",
    "        generator.load_weights(filepath=config2.uav_view_generator)\n",
    "\n",
    "        # tanker\n",
    "        noise = np.random.uniform(-1, 1, size=[config2.size_per_class, config2.noise_dim])\n",
    "        y_tanker = self.gen_labels('tanker', config2.size_per_class)\n",
    "        random_labels = tf.concat(\n",
    "            [noise, y_tanker], axis=1\n",
    "        )\n",
    "        x_tanker = generator.predict(random_labels)\n",
    "\n",
    "        # container\n",
    "        noise = np.random.uniform(-1, 1, size=[config2.size_per_class, config2.noise_dim])\n",
    "        y_container = self.gen_labels('container', config2.size_per_class)\n",
    "        random_labels = tf.concat(\n",
    "            [noise, y_container], axis=1\n",
    "        )\n",
    "        x_container = generator.predict(random_labels)\n",
    "\n",
    "        # bulkcarrier\n",
    "        noise = np.random.uniform(-1, 1, size=[config2.size_per_class, config2.noise_dim])\n",
    "        y_bulkcarrier = self.gen_labels('bulkcarrier', config2.size_per_class)\n",
    "        random_labels = tf.concat(\n",
    "            [noise, y_bulkcarrier], axis=1\n",
    "        )\n",
    "        x_bulkcarrier = generator.predict(random_labels)\n",
    "\n",
    "        # general cargo\n",
    "        noise = np.random.uniform(-1, 1, size=[config2.size_per_class, config2.noise_dim])\n",
    "        y_generalcargo = self.gen_labels('general cargo', config2.size_per_class)\n",
    "        random_labels = tf.concat(\n",
    "            [noise, y_generalcargo], axis=1\n",
    "        )\n",
    "        x_generalcargo = generator.predict(random_labels)\n",
    "\n",
    "        x_comb = np.concatenate([x_tanker,x_container,x_bulkcarrier,x_generalcargo],axis=0)\n",
    "        y_comb = np.concatenate([y_tanker,y_container,y_bulkcarrier,y_generalcargo],axis=0)\n",
    "\n",
    "        #print(np.array(x_comb))\n",
    "        save_images_to_disk(x_comb, os.path.join(gen_data_dir, \"generated_samples\"))\n",
    "\n",
    "        return y_comb"
   ]
  },
  {
   "cell_type": "code",
   "execution_count": 15,
   "id": "7bdfd848-189a-4602-be2a-c08fc82d4c86",
   "metadata": {},
   "outputs": [],
   "source": [
    "generate=generate_data()"
   ]
  },
  {
   "cell_type": "code",
   "execution_count": 16,
   "id": "2354dafb-46ec-4ab1-83fa-2e259a7c2104",
   "metadata": {},
   "outputs": [
    {
     "name": "stdout",
     "output_type": "stream",
     "text": [
      "WARNING:tensorflow:From C:\\Users\\venkat\\AppData\\Local\\Programs\\Python\\Python39\\lib\\site-packages\\keras\\src\\backend.py:873: The name tf.get_default_graph is deprecated. Please use tf.compat.v1.get_default_graph instead.\n",
      "\n",
      "WARNING:tensorflow:From C:\\Users\\venkat\\AppData\\Local\\Programs\\Python\\Python39\\lib\\site-packages\\keras\\src\\optimizers\\__init__.py:309: The name tf.train.Optimizer is deprecated. Please use tf.compat.v1.train.Optimizer instead.\n",
      "\n",
      "32/32 [==============================] - 10s 305ms/step\n",
      "32/32 [==============================] - 11s 328ms/step\n",
      "32/32 [==============================] - 10s 309ms/step\n",
      "32/32 [==============================] - 10s 319ms/step\n"
     ]
    }
   ],
   "source": [
    "y_comb=generate.uav_view_sample()"
   ]
  },
  {
   "cell_type": "code",
   "execution_count": 17,
   "id": "33daa68a-ae66-4ddd-9543-51392490997d",
   "metadata": {},
   "outputs": [
    {
     "data": {
      "text/plain": [
       "array([[ 1, -1, -1, -1],\n",
       "       [ 1, -1, -1, -1],\n",
       "       [ 1, -1, -1, -1],\n",
       "       ...,\n",
       "       [-1, -1, -1,  1],\n",
       "       [-1, -1, -1,  1],\n",
       "       [-1, -1, -1,  1]])"
      ]
     },
     "execution_count": 17,
     "metadata": {},
     "output_type": "execute_result"
    }
   ],
   "source": [
    "y_comb"
   ]
  },
  {
   "cell_type": "code",
   "execution_count": 18,
   "id": "d37cbabb-e1c0-41e2-b92e-a468e4620fe7",
   "metadata": {},
   "outputs": [
    {
     "data": {
      "text/plain": [
       "(4000, 4)"
      ]
     },
     "execution_count": 18,
     "metadata": {},
     "output_type": "execute_result"
    }
   ],
   "source": [
    "y_comb.shape"
   ]
  },
  {
   "cell_type": "code",
   "execution_count": 19,
   "id": "cdca15ce-ec3d-4652-8f38-a097f9da4756",
   "metadata": {},
   "outputs": [],
   "source": [
    "gen_images=load_images_from_disk(os.path.join(gen_data_dir, \"generated_samples\"))"
   ]
  },
  {
   "cell_type": "code",
   "execution_count": 20,
   "id": "ba77c25c-e631-4625-92cc-16c8c47817bd",
   "metadata": {},
   "outputs": [
    {
     "data": {
      "text/plain": [
       "(4000, 256, 256, 3)"
      ]
     },
     "execution_count": 20,
     "metadata": {},
     "output_type": "execute_result"
    }
   ],
   "source": [
    "x_train_generated=np.array(gen_images)\n",
    "x_train_generated.shape"
   ]
  },
  {
   "cell_type": "code",
   "execution_count": 21,
   "id": "4ace2abe-09ad-4026-82f6-be8e25350a1a",
   "metadata": {},
   "outputs": [
    {
     "name": "stdout",
     "output_type": "stream",
     "text": [
      "[[1. 0. 0. 0.]\n",
      " [1. 0. 0. 0.]\n",
      " [1. 0. 0. 0.]\n",
      " ...\n",
      " [0. 0. 0. 1.]\n",
      " [0. 0. 0. 1.]\n",
      " [0. 0. 0. 1.]]\n"
     ]
    }
   ],
   "source": [
    "y_comb = 0.5 * (y_comb + 1)\n",
    "print(y_comb)"
   ]
  },
  {
   "cell_type": "code",
   "execution_count": 22,
   "id": "c6e1966a-95e5-41ca-b05a-c5317c229bc9",
   "metadata": {},
   "outputs": [
    {
     "data": {
      "text/plain": [
       "(200, 256, 256, 3)"
      ]
     },
     "execution_count": 22,
     "metadata": {},
     "output_type": "execute_result"
    }
   ],
   "source": [
    "x_train.shape"
   ]
  },
  {
   "cell_type": "code",
   "execution_count": 23,
   "id": "f5073da5-aecd-4371-83fc-1bb10a96a435",
   "metadata": {},
   "outputs": [
    {
     "data": {
      "text/plain": [
       "(4000, 256, 256, 3)"
      ]
     },
     "execution_count": 23,
     "metadata": {},
     "output_type": "execute_result"
    }
   ],
   "source": [
    "x_train_generated.shape"
   ]
  },
  {
   "cell_type": "code",
   "execution_count": 24,
   "id": "83137d46-da7e-4678-a991-7c43e10fb469",
   "metadata": {},
   "outputs": [
    {
     "data": {
      "text/plain": [
       "200"
      ]
     },
     "execution_count": 24,
     "metadata": {},
     "output_type": "execute_result"
    }
   ],
   "source": [
    "len(x_train)"
   ]
  },
  {
   "cell_type": "code",
   "execution_count": 25,
   "id": "8a046832-dda4-4f39-8570-86bd512da175",
   "metadata": {},
   "outputs": [
    {
     "data": {
      "text/plain": [
       "(200, 4)"
      ]
     },
     "execution_count": 25,
     "metadata": {},
     "output_type": "execute_result"
    }
   ],
   "source": [
    "all_labels.shape"
   ]
  },
  {
   "cell_type": "code",
   "execution_count": 26,
   "id": "88ebe3f9-f2f9-4f5e-b2c2-4cf0d1175dcf",
   "metadata": {},
   "outputs": [
    {
     "data": {
      "text/plain": [
       "(4000, 4)"
      ]
     },
     "execution_count": 26,
     "metadata": {},
     "output_type": "execute_result"
    }
   ],
   "source": [
    "y_comb.shape"
   ]
  },
  {
   "cell_type": "code",
   "execution_count": 27,
   "id": "bc54ecc7-68bd-4b4f-af22-48ae4a526ec2",
   "metadata": {},
   "outputs": [],
   "source": [
    "x_train = np.concatenate([x_train, x_train_generated], axis=0)"
   ]
  },
  {
   "cell_type": "code",
   "execution_count": 28,
   "id": "fc1e4152-e2a6-4987-8912-97a904510924",
   "metadata": {},
   "outputs": [],
   "source": [
    "y_train = np.concatenate([all_labels, y_comb], axis=0)"
   ]
  },
  {
   "cell_type": "code",
   "execution_count": 29,
   "id": "0a2948e8-9bdf-403a-a703-376360ef7987",
   "metadata": {},
   "outputs": [
    {
     "data": {
      "text/plain": [
       "(4200, 4)"
      ]
     },
     "execution_count": 29,
     "metadata": {},
     "output_type": "execute_result"
    }
   ],
   "source": [
    "y_train.shape"
   ]
  },
  {
   "cell_type": "code",
   "execution_count": 30,
   "id": "4ba09dd1-608d-4d18-bad3-2017da3fad80",
   "metadata": {},
   "outputs": [
    {
     "data": {
      "text/plain": [
       "(4200, 256, 256, 3)"
      ]
     },
     "execution_count": 30,
     "metadata": {},
     "output_type": "execute_result"
    }
   ],
   "source": [
    "x_train.shape"
   ]
  },
  {
   "cell_type": "code",
   "execution_count": 31,
   "id": "ec4f1a8e-5160-4763-9902-eb8b5c531f71",
   "metadata": {},
   "outputs": [],
   "source": [
    "np.random.seed(1239)\n",
    "x_train = np.random.permutation(x_train)"
   ]
  },
  {
   "cell_type": "code",
   "execution_count": 32,
   "id": "8ea4a37b-60fb-4ed6-8c9b-1bc327b50b50",
   "metadata": {},
   "outputs": [],
   "source": [
    "np.random.seed(1239)\n",
    "y_train = np.random.permutation(y_train)"
   ]
  },
  {
   "cell_type": "code",
   "execution_count": 33,
   "id": "2b8dc58a-471f-457f-a2f9-82003f36bb68",
   "metadata": {},
   "outputs": [],
   "source": [
    "x_train, x_val, y_train, y_val = train_test_split(x_train, y_train, test_size=0.1, random_state=42)"
   ]
  },
  {
   "cell_type": "code",
   "execution_count": 34,
   "id": "ab020915-f8e5-4310-8b4d-6bbcc9b63bd5",
   "metadata": {},
   "outputs": [
    {
     "data": {
      "text/plain": [
       "(3780, 256, 256, 3)"
      ]
     },
     "execution_count": 34,
     "metadata": {},
     "output_type": "execute_result"
    }
   ],
   "source": [
    "x_train.shape"
   ]
  },
  {
   "cell_type": "code",
   "execution_count": 35,
   "id": "3b54772e-bc89-49d7-9c3b-3782d2ef7f0f",
   "metadata": {},
   "outputs": [
    {
     "data": {
      "text/plain": [
       "(420, 256, 256, 3)"
      ]
     },
     "execution_count": 35,
     "metadata": {},
     "output_type": "execute_result"
    }
   ],
   "source": [
    "x_val.shape"
   ]
  },
  {
   "cell_type": "code",
   "execution_count": 36,
   "id": "54ae5f7f-1841-459b-9624-59ba3c1457d6",
   "metadata": {},
   "outputs": [
    {
     "data": {
      "text/plain": [
       "(3780, 4)"
      ]
     },
     "execution_count": 36,
     "metadata": {},
     "output_type": "execute_result"
    }
   ],
   "source": [
    "y_train.shape"
   ]
  },
  {
   "cell_type": "code",
   "execution_count": 37,
   "id": "d8758f27-abfe-4dbb-a659-2c5957517dbc",
   "metadata": {},
   "outputs": [
    {
     "data": {
      "text/plain": [
       "(420, 4)"
      ]
     },
     "execution_count": 37,
     "metadata": {},
     "output_type": "execute_result"
    }
   ],
   "source": [
    "y_val.shape"
   ]
  },
  {
   "cell_type": "code",
   "execution_count": 38,
   "id": "877fc09c-d088-4ef9-adaa-c9db0d5aed7a",
   "metadata": {},
   "outputs": [
    {
     "data": {
      "text/plain": [
       "(681, 256, 256, 3)"
      ]
     },
     "execution_count": 38,
     "metadata": {},
     "output_type": "execute_result"
    }
   ],
   "source": [
    "test_images=load_images_from_disk(os.path.join(image_data_dir, \"test_images\"))\n",
    "x_test=np.array(test_images)\n",
    "x_test.shape"
   ]
  },
  {
   "cell_type": "code",
   "execution_count": 39,
   "id": "667d70d8-83b4-4cd2-83d7-385fff861522",
   "metadata": {},
   "outputs": [
    {
     "data": {
      "text/plain": [
       "(681, 4)"
      ]
     },
     "execution_count": 39,
     "metadata": {},
     "output_type": "execute_result"
    }
   ],
   "source": [
    "all_labels_rest.shape"
   ]
  },
  {
   "cell_type": "code",
   "execution_count": 40,
   "id": "9f64cf1e-146b-4c62-9b05-8512cb5183f4",
   "metadata": {},
   "outputs": [],
   "source": [
    "def resize(array, size):\n",
    "    rsize_li = []\n",
    "    for img in array:\n",
    "        rsize_img = cv2.resize(img, size, interpolation=cv2.INTER_AREA)\n",
    "        rsize_li.append(rsize_img)\n",
    "    rsize_array = np.array(rsize_li)\n",
    "    return rsize_array"
   ]
  },
  {
   "cell_type": "code",
   "execution_count": 41,
   "id": "2ed46ad1-7e6d-4618-91a8-25ab383950c2",
   "metadata": {},
   "outputs": [],
   "source": [
    "def euclideanDistance(x, y):\n",
    "    dist = tf.linalg.norm(x - y, axis=1)\n",
    "    return dist"
   ]
  },
  {
   "cell_type": "code",
   "execution_count": 42,
   "id": "5ffa0fd2-d0a4-48a3-8321-c5d9a7b99adb",
   "metadata": {},
   "outputs": [],
   "source": [
    "def contrastive_loss_fn(y_true, y_pred):\n",
    "    size = tf.shape(y_true)[0]\n",
    "\n",
    "    first_half_y_true = y_true[:int(size/2)]\n",
    "    second_half_y_true = y_true[int(size/2):]\n",
    "    first_half_y_pred = y_pred[:int(size/2)]\n",
    "    second_half_y_pred = y_pred[int(size/2):]\n",
    "    first_half_y_true_ = tf.math.argmax(first_half_y_true,axis=1)\n",
    "    second_half_y_true_ = tf.math.argmax(second_half_y_true,axis=1)\n",
    "\n",
    "    label = tf.math.equal(first_half_y_true_,second_half_y_true_)\n",
    "    label = 1-tf.cast(label, tf.float32)\n",
    "    label = tf.cast(label, tf.float32)\n",
    "    dis = euclideanDistance(first_half_y_pred,second_half_y_pred)\n",
    "    margin = 2.0\n",
    "    t = tf.clip_by_value(margin-dis, clip_value_min=0, clip_value_max=math.inf)\n",
    "    loss_contrastive = tf.math.reduce_mean((1-label)*tf.math.pow(dis,2)+label*tf.math.pow(t,2))\n",
    "    return loss_contrastive"
   ]
  },
  {
   "cell_type": "code",
   "execution_count": 43,
   "id": "c1bf3d82-d21d-41f0-a078-9f5dd4077ee1",
   "metadata": {},
   "outputs": [],
   "source": [
    "def train_model(x_train, x_val, y_train, y_val, args, SaveModlFile):\n",
    "    set_seed()\n",
    "    base_model = InceptionV3(weights='imagenet', include_top=False)\n",
    "    x = base_model.output\n",
    "    x = GlobalAveragePooling2D()(x)\n",
    "    predictions_1 = Dense(128, activation='relu')(x)\n",
    "    predictions_2 = Dense(4, activation='softmax')(predictions_1)\n",
    "    model1 = Model(inputs=base_model.input, outputs=predictions_1)\n",
    "    for layer in base_model.layers:\n",
    "        layer.trainable = False\n",
    "    # pre-training\n",
    "    model1.compile(optimizer=RMSprop(learning_rate=args['lr']), loss=contrastive_loss_fn, metrics=['accuracy'])\n",
    "    model1.fit(x=x_train, y=y_train, epochs=args['pre_epoch'], batch_size=args['batchsize'], verbose=1)\n",
    "\n",
    "    model2 = Model(inputs=base_model.input, outputs=predictions_2)\n",
    "    for layer in model2.layers[:args['l_f']]:\n",
    "        layer.trainable = False\n",
    "    for layer in model2.layers[args['l_f']:]:\n",
    "        layer.trainable = True\n",
    "\n",
    "    model2.compile(optimizer=RMSprop(learning_rate=args['lr'], momentum=0.9), loss='categorical_crossentropy',\n",
    "                   metrics=['accuracy'])\n",
    "    mcp_save = callbacks.ModelCheckpoint(SaveModlFile, save_best_only=True, monitor='val_loss', mode='min')\n",
    "\n",
    "    model2.fit(x=x_train, y=y_train, epochs=args['ft_epoch'], batch_size=args['batchsize'],\n",
    "              validation_data=(x_val, y_val), callbacks=[mcp_save], verbose=1)\n",
    "    return None"
   ]
  },
  {
   "cell_type": "code",
   "execution_count": 44,
   "id": "c07a54be-826d-4428-8ba0-c0de6b081114",
   "metadata": {},
   "outputs": [],
   "source": [
    "def predict(x_test,SaveModlFile):\n",
    "    model = load_model(SaveModlFile)\n",
    "    predictions_test = model.predict(x_test)\n",
    "    return predictions_test"
   ]
  },
  {
   "cell_type": "code",
   "execution_count": 45,
   "id": "0d1fc80e-802f-428b-aa36-50b936c2ada1",
   "metadata": {},
   "outputs": [],
   "source": [
    "def ensemble(x_test_1,x_test_2,args):\n",
    "    predictions_test_1 = predict(x_test_1, \"C:\\\\Users\\\\venkat\\\\Downloads\\\\save\\\\save\\\\model_cnn1.h5\")\n",
    "    predictions_test_2 = predict(x_test_2, \"C:\\\\Users\\\\venkat\\\\Downloads\\\\save\\\\save\\\\model_cnn2.h5\")\n",
    "    predictions_test = (predictions_test_1 + predictions_test_2) / 2\n",
    "    return predictions_test"
   ]
  },
  {
   "cell_type": "code",
   "execution_count": 46,
   "id": "400caf82-aae6-4418-b1e4-830fad59aa10",
   "metadata": {},
   "outputs": [],
   "source": [
    "def evaluate(GroundTruth,Prediction):\n",
    "    GroundTruth_Idx = np.argmax(GroundTruth, axis=1).tolist()\n",
    "    Prediction_Idx = np.argmax(Prediction, axis=1).tolist()\n",
    "    cr = classification_report(GroundTruth_Idx, Prediction_Idx, output_dict=True)\n",
    "    MCC = matthews_corrcoef(GroundTruth_Idx, Prediction_Idx)\n",
    "    AUC = roc_auc_score(GroundTruth, Prediction, average='macro')\n",
    "    return round(cr['accuracy'],4),round(cr['macro avg']['precision'],4),round(cr['macro avg']['recall'],4),round(cr['macro avg']['f1-score'],4),round(MCC,4),round(AUC,4)"
   ]
  },
  {
   "cell_type": "code",
   "execution_count": 47,
   "id": "7b730d97-e64b-4fc9-9605-672e2417adb0",
   "metadata": {},
   "outputs": [],
   "source": [
    "y_test=all_labels_rest"
   ]
  },
  {
   "cell_type": "code",
   "execution_count": 48,
   "id": "5eb412a9-9e42-472b-89d3-e73774283e74",
   "metadata": {},
   "outputs": [
    {
     "data": {
      "text/plain": [
       "(681, 4)"
      ]
     },
     "execution_count": 48,
     "metadata": {},
     "output_type": "execute_result"
    }
   ],
   "source": [
    "y_test.shape"
   ]
  },
  {
   "cell_type": "code",
   "execution_count": 49,
   "id": "a310b9b4-d7d3-4efe-9c2a-07a2d272d76c",
   "metadata": {},
   "outputs": [],
   "source": [
    "args = {\n",
    "            'batchsize': 64,\n",
    "            'l_f': 249,\n",
    "            'pre_epoch': 20,\n",
    "            'ft_epoch': 100,\n",
    "            'lr': 0.0001,\n",
    "            'S': 256,\n",
    "            'M': 512,\n",
    "            'train': True,\n",
    "            'SaveModlFile_1': \"./save/model_cnn1.h5\",\n",
    "            'SaveModlFile_2': \"./save/model_cnn2.h5\"\n",
    "        }"
   ]
  },
  {
   "cell_type": "code",
   "execution_count": 50,
   "id": "4241f96d-692f-4486-815e-ddcb924e6a5b",
   "metadata": {},
   "outputs": [],
   "source": [
    "def gpu_setting(enable_gpu=True):\n",
    "    if enable_gpu:\n",
    "        os.environ[\"CUDA_VISIBLE_DEVICES\"] = \"0\"\n",
    "        print(\"Num GPUs Available: \", len(tf.config.list_physical_devices('GPU')))\n",
    "    else:\n",
    "        os.environ[\"CUDA_DEVICE_ORDER\"] = \"PCI_BUS_ID\"\n",
    "        os.environ[\"CUDA_VISIBLE_DEVICES\"] = \"\""
   ]
  },
  {
   "cell_type": "code",
   "execution_count": 51,
   "id": "1f343fd5-e2fe-4f55-ad9d-f6c6d155ba37",
   "metadata": {},
   "outputs": [
    {
     "name": "stdout",
     "output_type": "stream",
     "text": [
      "Num GPUs Available:  0\n"
     ]
    }
   ],
   "source": [
    "gpu_setting(enable_gpu=True)"
   ]
  },
  {
   "cell_type": "code",
   "execution_count": 59,
   "id": "a177642a-e6a5-4020-bf81-d3a6c405e96e",
   "metadata": {},
   "outputs": [
    {
     "name": "stdout",
     "output_type": "stream",
     "text": [
      "22/22 [==============================] - 21s 915ms/step\n",
      "Performance for CNN1:\n",
      "Accuracy: 0.9073\n",
      "Precision: 0.9090\n",
      "Recall: 0.9072\n",
      "F1-score: 0.9124\n",
      "MCC: 0.8762\n",
      "AUC: 0.9864\n",
      "22/22 [==============================] - 22s 924ms/step\n",
      "Performance for CNN2:\n",
      "Accuracy: 0.9032\n",
      "Precision: 0.9046\n",
      "Recall: 0.9030\n",
      "F1-score: 0.9080\n",
      "MCC: 0.8619\n",
      "AUC: 0.9724\n",
      "34/34 [==============================] - 54s 629ms/step\n",
      "Performance for VAEL:\n",
      "Accuracy: 0.9186\n",
      "Precision: 0.9200\n",
      "Recall: 0.9184\n",
      "F1-score: 0.9191\n",
      "MCC: 0.8876\n",
      "AUC: 0.9942\n",
      "[[150   0   7   6]\n",
      " [  3 168   2   1]\n",
      " [  4   0 153  14]\n",
      " [  5   0  15 153]]\n"
     ]
    }
   ],
   "source": [
    "if _name_ == '_main_':\n",
    "    if args is not None:\n",
    "        # train CNN1\n",
    "        if args['train']:\n",
    "            x_train_1, x_val_1, y_train_1, y_val_1, x_test_1, y_test = get_data(args['S'], reshape=True)\n",
    "            train_model(x_train_1, x_val_1, y_train_1, y_val_1, args, args['SaveModlFile_1'])\n",
    "\n",
    "        prediction_test_cnn1 = predict(x_test, \"C:\\\\Users\\\\venkat\\\\Downloads\\\\save\\\\save\\\\model_cnn1.h5\")\n",
    "        accuracy, precision, recall, f1_score, MCC, AUC = evaluate(y_test, prediction_test_cnn1)\n",
    "        print('Performance for CNN1:')\n",
    "        print('Accuracy: ', accuracy)\n",
    "        print('Precision: ', precision)\n",
    "        print('Recall: ', recall)\n",
    "        print('F1-score: ', f1_score)\n",
    "        print('MCC: ', MCC)\n",
    "        print('AUC: ', AUC)\n",
    "        print('#########################')\n",
    "\n",
    "        # train CNN2\n",
    "        x_test_2 = resize(x_test, (args['M'], args['M']))\n",
    "        if args['train']:\n",
    "            x_train_2 = resize(x_train_1, (args['M'], args['M']))\n",
    "            x_val_2 = resize(x_val_1, (args['M'], args['M']))\n",
    "            train_model(x_train_2, x_val_2, y_train_1, y_val_1, args, args['SaveModlFile_2'])\n",
    "\n",
    "        prediction_test_cnn2 = predict(x_test_2, \"C:\\\\Users\\\\venkat\\\\Downloads\\\\save\\\\save\\\\model_cnn2.h5\")\n",
    "        accuracy, precision, recall, f1_score, MCC, AUC = evaluate(y_test, prediction_test_cnn2)\n",
    "        print('Performance for CNN2:')\n",
    "        print('Accuracy: ', accuracy)\n",
    "        print('Precision: ', precision)\n",
    "        print('Recall: ', recall)\n",
    "        print('F1-score: ', f1_score)\n",
    "        print('MCC: ', MCC)\n",
    "        print('AUC: ', AUC)\n",
    "        print('#########################')\n",
    "\n",
    "        # ensemble\n",
    "        prediction_test_vael = ensemble(x_test, x_test_2, args)\n",
    "        accuracy, precision, recall, f1_score, MCC, AUC = evaluate(y_test, prediction_test_vael)\n",
    "        print('Performance for VAEL:')\n",
    "        print('Accuracy: ', accuracy)\n",
    "        print('Precision: ', precision)\n",
    "        print('Recall: ', recall)\n",
    "        print('F1-score: ', f1_score)\n",
    "        print('MCC: ', MCC)\n",
    "        print('AUC: ', AUC)\n",
    "        print(conf_matrix)\n"
   ]
  },
  {
   "cell_type": "code",
   "execution_count": null,
   "id": "05e1ae5e-dd9d-401d-abc7-2125c4b1592c",
   "metadata": {},
   "outputs": [],
   "source": []
  }
 ],
 "metadata": {
  "kernelspec": {
   "display_name": "Python 3 (ipykernel)",
   "language": "python",
   "name": "python3"
  },
  "language_info": {
   "codemirror_mode": {
    "name": "ipython",
    "version": 3
   },
   "file_extension": ".py",
   "mimetype": "text/x-python",
   "name": "python",
   "nbconvert_exporter": "python",
   "pygments_lexer": "ipython3",
   "version": "3.9.7"
  }
 },
 "nbformat": 4,
 "nbformat_minor": 5
}
